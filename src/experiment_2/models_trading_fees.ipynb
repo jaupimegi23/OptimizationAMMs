{
 "cells": [
  {
   "cell_type": "markdown",
   "metadata": {},
   "source": [
    "## AMM Optimization, 2nd model (trading fees)\n",
    "\n",
    "In the first experiment, we did not model the trading fees when executing a trade over a specific AMM. \n",
    "\n",
    "This approach is not realistic, as the trading fees are a significant part of the total cost of a trade for large trades. Moreover, in practice the pools on DEX are created by liquidity providers, who are incentivized to charge fees to the traders (in return for providing liquidity). In this experiment, we model the trading fees as a percentage of the trade size."
   ]
  },
  {
   "cell_type": "markdown",
   "metadata": {},
   "source": [
    "### 1. Problem formulation"
   ]
  },
  {
   "cell_type": "markdown",
   "metadata": {},
   "source": [
    "Our approach for the modelization of the trading fees is derived from [Uniswap Whitepaper](https://hackmd.io/C-DvwDSfSxuh-Gd4WKE_ig)."
   ]
  },
  {
   "cell_type": "markdown",
   "metadata": {},
   "source": [
    "let f be the trading fee for an AMM\n",
    "\n",
    "I want to buy $ \\Delta x $ ETH for $ \\Delta y $ USDT \n",
    "If I send $ \\Delta y $ USDT to the AMM, $f$% of it will be charged as a fee, so I will make the trade with $ \\Delta y (1-f) $\n",
    "The AMM will send me $ \\Delta x $ ETH, and will receive $ \\Delta y (1-f) $ USDT. Then, the invariant will be updated.\n",
    "\n",
    "Therefore we have:\n",
    "\n",
    "\\begin{align} \n",
    "    (x_{eth} - \\Delta x_{eth}) (y_{usd} + \\Delta y_{usd}(1-f)) = x_{eth}y_{usd} \\\\\n",
    "    \\Delta y_{usd} = \\frac{y_{usd} \\Delta x_{eth}}{(1-f)(x_{eth} - \\Delta x_{eth})} \\\\    \n",
    "\\end{align}\n",
    "\n"
   ]
  },
  {
   "cell_type": "markdown",
   "metadata": {},
   "source": [
    "After that, the fee is added the the USDT pool, which makes the invariant change.\n",
    "\n",
    "\\begin{align} \n",
    "    x_{eth_{new}} = x_{eth} - \\Delta x_{eth} \\\\\n",
    "    y_{usd_{new}} = y_{usd} + \\Delta y_{usd} \\\\\n",
    "    invariant_{{new}} = x_{eth_{new}}y_{usd_{new}} \n",
    "\\end{align}\n",
    "\n",
    "So the quantity is bigger and the liquidity provider will receive some money afterwards\n"
   ]
  },
  {
   "cell_type": "markdown",
   "metadata": {},
   "source": [
    "### 2. Implementation"
   ]
  },
  {
   "cell_type": "code",
   "execution_count": 1,
   "metadata": {},
   "outputs": [],
   "source": [
    "using Gurobi, JuMP, CSV, Tables, Ipopt"
   ]
  },
  {
   "cell_type": "code",
   "execution_count": 18,
   "metadata": {},
   "outputs": [
    {
     "name": "stdout",
     "output_type": "stream",
     "text": [
      "Prices from the liquidity model[690.7216494845361, 457.27956254272044, 5494.68085106383, 438.62376993212035, 66747.88758992805, 649.8326243455498, 1210.3490171311282, 520.789677764407, 412.8944702077082]\n"
     ]
    }
   ],
   "source": [
    "# load data\n",
    "#liquidity = CSV.read(\"../../data/ex_2_liquidity.csv\", Tables.matrix)\n",
    "#fees = CSV.read(\"../../data/ex_2_fees.csv\", Tables.matrix)\n",
    "#product = CSV.read(\"../../data/ex_2_k.csv\", Tables.matrix); \n",
    "\n",
    "#liquidity = liquidity[1:size(fees, 1),:];\n",
    "\n",
    "#println(\"Prices from the liquidity model\", liquidity[:,2] ./ liquidity[:,1])"
   ]
  },
  {
   "cell_type": "code",
   "execution_count": 13,
   "metadata": {},
   "outputs": [
    {
     "data": {
      "text/plain": [
       "optimize_price_paid_with_fees (generic function with 1 method)"
      ]
     },
     "execution_count": 13,
     "metadata": {},
     "output_type": "execute_result"
    }
   ],
   "source": [
    "# With an order amount of token x\n",
    "function optimize_price_paid_with_fees(liquidity, fees, order_amount)\n",
    "\n",
    "    amount_token_x_per_pool = liquidity[:, 1] \n",
    "    amount_token_y_per_pool = liquidity[:, 2]\n",
    "\n",
    "    # Create a new model\n",
    "    model = Model(Ipopt.Optimizer)\n",
    "\n",
    "    # Create variables\n",
    "    @variable(model, x[1:size(liquidity,1)] >= 0)\n",
    "\n",
    "    # Set objective\n",
    "    @NLobjective(model, Min, sum((amount_token_y_per_pool[i] * x[i])/((1-fees[i])*(amount_token_x_per_pool[i]- x[i])) for i in 1:size(liquidity,1)))\n",
    "\n",
    "    # Add constraint\n",
    "    @constraint(model, sum(x) == order_amount)\n",
    "    @constraint(model, x .<= amount_token_x_per_pool)\n",
    "\n",
    "    # Optimize model\n",
    "    optimize!(model)\n",
    "\n",
    "    # Return the optimal solution\n",
    "    return value.(x)\n",
    "end"
   ]
  },
  {
   "cell_type": "code",
   "execution_count": 31,
   "metadata": {},
   "outputs": [
    {
     "name": "stdout",
     "output_type": "stream",
     "text": [
      "ETH amount[3023, 3068, 3100, 3117, 3256, 3261, 3263, 3292, 3413, 3430, 3454, 3476]\n",
      "USDT amount[3657830, 3712280, 3751000, 3771570, 3939760, 3945810, 3948230, 3983320, 4129730, 4150300, 4179340, 4205960]\n",
      "Fees[0.01, 0.01, 0.1, 0.01, 0.01, 0.01, 0.01, 0.3, 0.01, 0.01, 0.1, 0.3]\n",
      "Order amount1000\n",
      "This is Ipopt version 3.14.4, running with linear solver MUMPS 5.4.1.\n",
      "\n",
      "Number of nonzeros in equality constraint Jacobian...:       12\n",
      "Number of nonzeros in inequality constraint Jacobian.:       12\n",
      "Number of nonzeros in Lagrangian Hessian.............:       12\n",
      "\n",
      "Total number of variables............................:       12\n",
      "                     variables with only lower bounds:       12\n",
      "                variables with lower and upper bounds:        0\n",
      "                     variables with only upper bounds:        0\n",
      "Total number of equality constraints.................:        1\n",
      "Total number of inequality constraints...............:       12\n",
      "        inequality constraints with only lower bounds:        0\n",
      "   inequality constraints with lower and upper bounds:        0\n",
      "        inequality constraints with only upper bounds:       12\n",
      "\n",
      "iter    objective    inf_pr   inf_du lg(mu)  ||d||  lg(rg) alpha_du alpha_pr  ls\n",
      "   0  1.5923842e+02 1.00e+03 1.16e+01  -1.0 0.00e+00    -  0.00e+00 0.00e+00   0\n",
      "   1  1.3614990e+06 1.14e-13 8.33e+03  -1.0 8.34e+01    -  1.19e-04 1.00e+00h  1\n",
      "   2  1.2829407e+06 1.14e-13 6.64e+03  -1.0 4.05e+02    -  4.23e-01 2.03e-01f  1\n",
      "   3  1.2820305e+06 0.00e+00 6.61e+03  -1.0 3.06e+02    -  9.06e-01 4.03e-03f  1\n",
      "   4  1.2788859e+06 0.00e+00 5.95e+03  -1.0 9.13e+01    -  9.63e-01 9.99e-02f  1\n",
      "   5  1.2715214e+06 1.14e-13 1.41e+03  -1.0 8.57e+01    -  1.00e+00 7.62e-01f  1\n",
      "   6  1.2714844e+06 0.00e+00 1.35e+03  -1.0 2.05e+01    -  1.00e+00 4.55e-02f  1\n",
      "   7  1.2714508e+06 0.00e+00 1.10e+03  -1.0 8.02e+00    -  1.00e+00 1.87e-01f  1\n",
      "   8  1.2714513e+06 0.00e+00 1.06e-05  -1.0 6.54e-01    -  1.00e+00 1.00e+00f  1\n",
      "   9  1.2714441e+06 1.14e-13 2.27e-07  -2.5 1.02e-01    -  1.00e+00 1.00e+00f  1\n",
      "iter    objective    inf_pr   inf_du lg(mu)  ||d||  lg(rg) alpha_du alpha_pr  ls\n",
      "  10  1.2714439e+06 1.14e-13 1.50e-09  -3.8 2.70e-03    -  1.00e+00 1.00e+00f  1\n",
      "  11  1.2714438e+06 2.27e-13 1.85e-11  -5.7 1.18e-04    -  1.00e+00 1.00e+00f  1\n",
      "  12  1.2714438e+06 2.27e-13 4.66e-14  -8.6 1.46e-06    -  1.00e+00 1.00e+00f  1\n",
      "\n",
      "Number of Iterations....: 12\n",
      "\n",
      "                                   (scaled)                 (unscaled)\n",
      "Objective...............:   7.3554602852172815e+04    1.2714438493018446e+06\n",
      "Dual infeasibility......:   4.6629367034256575e-14    8.0602191587786375e-13\n",
      "Constraint violation....:   2.2737367544323206e-13    2.2737367544323206e-13\n",
      "Variable bound violation:   9.8932893395352323e-09    9.8932893395352323e-09\n",
      "Complementarity.........:   2.5060601075479718e-09    4.3319039001900664e-08\n",
      "Overall NLP error.......:   2.5060601075479718e-09    4.3319039001900664e-08\n",
      "\n",
      "\n",
      "Number of objective function evaluations             = 13\n",
      "Number of objective gradient evaluations             = 13\n",
      "Number of equality constraint evaluations            = 13\n",
      "Number of inequality constraint evaluations          = 13\n",
      "Number of equality constraint Jacobian evaluations   = 1\n",
      "Number of inequality constraint Jacobian evaluations = 1\n",
      "Number of Lagrangian Hessian evaluations             = 12\n",
      "Total seconds in IPOPT                               = 0.008\n",
      "\n",
      "EXIT: Optimal Solution Found.\n"
     ]
    },
    {
     "data": {
      "text/plain": [
       "12-element Vector{Float64}:\n",
       " 117.02992528778981\n",
       " 118.77201812203832\n",
       "  -8.012587531206751e-9\n",
       " 120.66896365266447\n",
       " 126.05009485178728\n",
       " 126.24366072225963\n",
       " 126.32108707044821\n",
       "  -9.893289338593107e-9\n",
       " 132.12806318460935\n",
       " 132.78618714421444\n",
       "  -8.012596326102944e-9\n",
       "  -9.893289339535232e-9"
      ]
     },
     "execution_count": 31,
     "metadata": {},
     "output_type": "execute_result"
    }
   ],
   "source": [
    "ETH_USDT = 1210;\n",
    "# arrange for ETH\n",
    "ETH = rand(3000:3500, 12)\n",
    "ETH = sort(ETH, rev=false)\n",
    "USD = ETH .* ETH_USDT\n",
    "liquidity = [ETH USD];\n",
    "fees = rand([0.3, 0.1, 0.01], 12)\n",
    "\n",
    "\n",
    "println(\"ETH amount\", liquidity[:, 1])\n",
    "println(\"USDT amount\", liquidity[:, 2])\n",
    "println(\"Fees\", fees)\n",
    "order_amount = 1000\n",
    "println(\"Order amount\", order_amount)\n",
    "\n",
    "split_trades = optimize_price_paid_with_fees(liquidity, fees, order_amount)"
   ]
  },
  {
   "cell_type": "code",
   "execution_count": 28,
   "metadata": {},
   "outputs": [
    {
     "name": "stdout",
     "output_type": "stream",
     "text": [
      "Price with split trades: -200.28403528042477\n",
      "Price without split trades: [-200.28403525954946, -125.02998787724111, -193.54090354090354, -193.38545472258755, -124.08807967631498, -123.61814605360216, -123.55424644084438, -191.67920155148764, -122.85021973391126, -190.76804915514592, -189.36456063907045, -121.25071946586854]\n",
      "Price with even split on all Amms: -113.28887272787341\n"
     ]
    }
   ],
   "source": [
    "price = sum((split_trades[i]/order_amount)*liquidity[i, 2] / ((1-fees[i])*(liquidity[i, 1] - split_trades[i])) for i in 1:size(liquidity,1)) \n",
    "price_exec_baseline_pool = [liquidity[i, 2] / ((1-fees[i])*(liquidity[i, 1] - order_amount)) for i in 1:size(liquidity,1)]\n",
    "avg_split = [order_amount / size(liquidity,1) for i in 1:size(liquidity,1)]\n",
    "price_avg_amm = sum((avg_split[i]/order_amount)*liquidity[i, 2] / ((1-fees[i])*(liquidity[i, 1] - avg_split[i])) for i in 1:size(liquidity,1))\n",
    "println(\"Price with split trades: \", price)\n",
    "println(\"Price without split trades: \", price_exec_baseline_pool)\n",
    "println(\"Price with even split on all Amms: \", price_avg_amm)"
   ]
  },
  {
   "cell_type": "markdown",
   "metadata": {},
   "source": [
    "##### Invariants analysis"
   ]
  },
  {
   "cell_type": "code",
   "execution_count": 29,
   "metadata": {},
   "outputs": [
    {
     "name": "stdout",
     "output_type": "stream",
     "text": [
      "Invariants before[11197054440, 12694256410, 12978006250, 13025602810, 13137000250, 13369260960, 13401456640, 13571119210, 13766326090, 13880840490, 14385331840, 14670432040]\n",
      "Invariants after[7.107254439550933e9, 1.2694256410041924e10, 1.297800625004394e10, 1.302560281004402e10, 1.3137000250042648e10, 1.3369260960043024e10, 1.3401456640043076e10, 1.3571119210044933e10, 1.376632609004366e10, 1.3880840490045443e10, 1.438533184004626e10, 1.467043204004507e10]\n"
     ]
    }
   ],
   "source": [
    "del_y = [liquidity[i, 2]*split_trades[i]/ ((1-fees[i])*(liquidity[i, 1] - split_trades[i])) for i in 1:size(liquidity,1)]\n",
    "println(\"Invariants before\", [liquidity[i, 2] * liquidity[i, 1] for i in 1:size(liquidity,1)])\n",
    "println(\"Invariants after\", [(liquidity[i, 2] + del_y[i]) * (liquidity[i, 1] - split_trades[i]) for i in 1:size(liquidity,1)])\n",
    "\n"
   ]
  },
  {
   "cell_type": "markdown",
   "metadata": {},
   "source": [
    "#### Market impact: TODO (not done) copied past from the first experiment (not adapted)"
   ]
  },
  {
   "cell_type": "code",
   "execution_count": 30,
   "metadata": {},
   "outputs": [
    {
     "name": "stdout",
     "output_type": "stream",
     "text": [
      "Simulated price after trade per pool: [2685.296923567897, 1209.9999999925406, 1209.9999999926258, 1209.9999999926395, 1209.9999999926672, 1209.9999999927313, 1209.99999999274, 1209.9999999927888, 1209.9999999928368, 1209.9999999928698, 1209.999999992996, 1209.999999993061]\n",
      "Simulated price after trade per pool if we had done an average split: [1279.1212445630663, 1274.7500026471678, 1274.0102529842047, 1273.8886013180957, 1273.6065374223506, 1273.030112037498, 1272.9514238387712, 1272.541512682967, 1272.0795302236788, 1271.8131783528231, 1270.6788264810484, 1270.0644492313156]\n",
      "Simulated price after trade per pool if we had done the trade on a single pool (displayed for all the pools): [2685.296923279111, 2532.206266315934, 2507.5244535684096, 2503.4980677348917, 2494.1974359339474, 2475.341671579359, 2472.78326897415, 2459.5158850418857, 2444.683133701963, 2436.188706491962, 2400.4742833952755, 2381.438385383626]\n"
     ]
    }
   ],
   "source": [
    "del_y = [liquidity[i, 2]*split_trades[i]/(liquidity[i, 1] - split_trades[i]) for i in 1:size(liquidity,1)]\n",
    "price_post_trade_per_pool = [(liquidity[i, 2] + del_y[i])/ (liquidity[i, 1] - split_trades[i]) for i in 1:size(liquidity,1)]\n",
    "\n",
    "# Comparison with an average split\n",
    "avg_split = [order_amount / size(liquidity,1) for i in 1:size(liquidity,1)]\n",
    "del_y_avg = [liquidity[i, 2]*avg_split[i]/(liquidity[i, 1] - avg_split[i]) for i in 1:size(liquidity,1)]\n",
    "price_post_trade_per_pool_avg = [(liquidity[i, 2] + del_y_avg[i])/ (liquidity[i, 1] - avg_split[i]) for i in 1:size(liquidity,1)]\n",
    "\n",
    "# Comparison with doing the trade on a single pool (each element in the array is \"if we did the trade on this pool\")\n",
    "del_y_pool = [liquidity[i, 2]*order_amount/(liquidity[i, 1] - order_amount) for i in 1:size(liquidity,1)]\n",
    "price_post_trade_per_pool_pool = [(liquidity[i, 2] + del_y_pool[i])/ (liquidity[i, 1] - order_amount) for i in 1:size(liquidity,1)]\n",
    "\n",
    "println(\"Simulated price after trade per pool: \", price_post_trade_per_pool)\n",
    "println(\"Simulated price after trade per pool if we had done an average split: \", price_post_trade_per_pool_avg)\n",
    "println(\"Simulated price after trade per pool if we had done the trade on a single pool (displayed for all the pools): \", price_post_trade_per_pool_pool)"
   ]
  }
 ],
 "metadata": {
  "kernelspec": {
   "display_name": "Julia 1.8.0",
   "language": "julia",
   "name": "julia-1.8"
  },
  "language_info": {
   "file_extension": ".jl",
   "mimetype": "application/julia",
   "name": "julia",
   "version": "1.8.0"
  },
  "orig_nbformat": 4,
  "vscode": {
   "interpreter": {
    "hash": "397704579725e15f5c7cb49fe5f0341eb7531c82d19f2c29d197e8b64ab5776b"
   }
  }
 },
 "nbformat": 4,
 "nbformat_minor": 2
}
