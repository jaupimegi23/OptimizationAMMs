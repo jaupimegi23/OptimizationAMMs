{
 "cells": [
  {
   "cell_type": "markdown",
   "metadata": {},
   "source": [
    "## AMM Optimization, 3rd model (time series)\n",
    "\n",
    "Now, we want to model the problem of splitting a trade, across time with stochastic variation of price.\n",
    "\n",
    "We don't take trading fees into account, for simplicity."
   ]
  },
  {
   "cell_type": "markdown",
   "metadata": {},
   "source": [
    "### 1. Problem formulation"
   ]
  },
  {
   "cell_type": "markdown",
   "metadata": {},
   "source": [
    "Idea:\n",
    "Make x,y change according to some distribution in time (so price changes acc to some distribution) and then we would have a multi-period-stochastic optimization?\n",
    "\n",
    "Let’s say binomial model, price goes up 5% with probability p or down 5% with 1-p every time period pre trade. xy is cte. y/x= p so we have the liquidity. \n",
    "\n",
    "Then if we trade, we move the market to post trade. Then next period post-trade up or down 5% again.\n",
    "\n",
    "Finally, minimize sum expected_values_t\n"
   ]
  },
  {
   "cell_type": "markdown",
   "metadata": {},
   "source": [
    "So we define $x_t$ and $y_t$ as the amount of tokens in the market at time $t$. We assume that the price of token $x$ is $p_t = \\frac{y_t}{x_t}$\n",
    "\n",
    "If we fix a time t and a pool i.\n",
    "\n",
    "Let $p_{t}$ be the price of token $x$ at time $t$.\n",
    "\n",
    "we have the following constraints:\n",
    "\n",
    "\\begin{align}\n",
    "x_{i,t}*y_{i,t} = k_{i} \\\\\n",
    "p_{t} = \\frac{y_{i,t}}{x_{i,t}}\n",
    "\n",
    "\\end{align}\n",
    "\n",
    "So we can derive the value of the pool at time $t$ as:\n",
    "\n",
    "\\begin{align}\n",
    "y_{i,t} = \\sqrt{k_{i}p_{t}} \\\\\n",
    "x_{i,t} = \\sqrt{\\frac{k_{i}}{p_{t}}}\n",
    "\\end{align}\n",
    "\n",
    "As before, the price i'll pay for that transaction will be:\n",
    "\n",
    "\\begin{align}\n",
    "\\frac{y_{i,t}}{x_{i,t} + \\Delta x_{i,t}}\n",
    "\\end{align}\n",
    "\n",
    "and the new price of the pool will be:\n",
    "\n",
    "\\begin{align}\n",
    "q_{t} = \\frac{y_{i,t} + \\Delta y_{i,t}}{x_{i,t} - \\Delta x_{i,t}}\n",
    "\\end{align}\n",
    "\n",
    "Given the binomial variation, the expected value of the pool at time $t+1$ will be:\n",
    "\n",
    "\\begin{align}\n",
    "E[p_{t+1}] = 1.05q_{t}p + 0.95q_{t}(1-p)\n",
    "\\end{align}\n",
    "Where p is the probability of the price going up.\n"
   ]
  },
  {
   "cell_type": "markdown",
   "metadata": {},
   "source": [
    "No we will use those considerations to define the optimization problem.\n",
    "\n",
    "I want to minimize the expected value of the price I will pay for the transaction of size order_amount, given the binomial variation of the price."
   ]
  },
  {
   "cell_type": "markdown",
   "metadata": {},
   "source": [
    "We define the variables as:\n",
    "- $\\Delta x_{i,t}$: split of the trade at time $t$ in pool i\n",
    "- $p_{t}$: price of token $x$ at beginning of period $t$ (expected value)\n",
    "- $q_{t}$: price of token $x$ at the end of period $t$ \n",
    "\n",
    "My objective function to minimize is:\n",
    "\n",
    "\\begin{align}\n",
    "\\sum_{t=0}^{T} \\sum_{i=0}^{N} \\frac{y_{i,t}}{x_{i,t} + \\Delta x_{i,t}}\n",
    "\\end{align}\n",
    "\n",
    "Which can be rewritten as using the expectation and the transfer theorem:\n",
    "\n",
    "\\begin{align}\n",
    "\\sum_{t=0}^{T} \\sum_{i=0}^{N} \\frac{\\sqrt{1.05k_{i}q_{t-1}}}{\\sqrt{\\frac{k_{i}}{1.05q_{t-1}}} + \\Delta x_{i,t}}p + \\frac{\\sqrt{0.95k_{i}q_{t-1}}}{\\sqrt{\\frac{k_{i}}{0.95q_{t-1}}} + \\Delta x_{i,t}}(1-p)\n",
    "\\end{align}\n",
    "\n",
    "and the constraints are:\n",
    "\n",
    "\\begin{align}\n",
    "\\sum_{i=0}^{N} \\Delta x_{i,t} &= order\\_amount \\\\\n",
    "q_t &= \\frac{y_{i,t} + \\Delta y_{i,t}}{x_{i,t} - \\Delta x_{i,t}} \\\\\n",
    "E[p_{t+1}] &= 1.05q_{t}p + 0.95q_{t}(1-p)\n",
    "\\end{align}"
   ]
  },
  {
   "cell_type": "markdown",
   "metadata": {},
   "source": [
    "This is false check how can be corrected"
   ]
  }
 ],
 "metadata": {
  "kernelspec": {
   "display_name": "Julia 1.8.0",
   "language": "julia",
   "name": "julia-1.8"
  },
  "language_info": {
   "file_extension": ".jl",
   "mimetype": "application/julia",
   "name": "julia",
   "version": "1.8.0"
  },
  "orig_nbformat": 4,
  "vscode": {
   "interpreter": {
    "hash": "397704579725e15f5c7cb49fe5f0341eb7531c82d19f2c29d197e8b64ab5776b"
   }
  }
 },
 "nbformat": 4,
 "nbformat_minor": 2
}
