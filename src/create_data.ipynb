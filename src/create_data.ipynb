{
 "cells": [
  {
   "cell_type": "markdown",
   "metadata": {},
   "source": [
    "# Generating Data for experiments"
   ]
  },
  {
   "cell_type": "code",
   "execution_count": 2,
   "metadata": {},
   "outputs": [],
   "source": [
    "using CSV, Tables"
   ]
  },
  {
   "cell_type": "code",
   "execution_count": 5,
   "metadata": {},
   "outputs": [
    {
     "data": {
      "text/plain": [
       "3-element Vector{Float64}:\n",
       "  690.7216494845361\n",
       "  457.27956254272044\n",
       " 5494.68085106383"
      ]
     },
     "execution_count": 5,
     "metadata": {},
     "output_type": "execute_result"
    }
   ],
   "source": [
    "# Actual data and parameters\n",
    "TOKEN_PAIR = \"ETH_USDT\"\n",
    "N_GENERATED_AMMS = 9\n",
    "ETH_USDT = 1210\n",
    "\n",
    "liquidityData = [7760 5360000; 29260 13380000; 1880 10330000]\n",
    "feesData = [0.0005 0.003 0.01]\n",
    "priceData = liquidityData[:, 2] ./ liquidityData[:, 1]"
   ]
  },
  {
   "cell_type": "markdown",
   "metadata": {},
   "source": [
    "### Experiment 2: Transaction costs\n",
    "\n",
    "Preserve ratios of liquidity and current price"
   ]
  },
  {
   "cell_type": "code",
   "execution_count": 14,
   "metadata": {},
   "outputs": [
    {
     "data": {
      "text/plain": [
       "\"../data/ex_2_fees.csv\""
      ]
     },
     "execution_count": 14,
     "metadata": {},
     "output_type": "execute_result"
    }
   ],
   "source": [
    "kData = liquidityData[:,2] .* liquidityData[:,1]\n",
    "kGenerated = kData[3] .* rand(3:20, 9)\n",
    "\n",
    "ETHGenerated = rand(1880:29260, 9)\n",
    "USDTGenerated = kGenerated ./ ETHGenerated\n",
    "liquidityGenerated = [ETHGenerated USDTGenerated]\n",
    "\n",
    "priceGenerated = USDTGenerated./ETHGenerated\n",
    "\n",
    "# to which priceData is every priceGenerated closest to\n",
    "priceDataClosest = [findmin(abs.(priceData .- priceGenerated[i]))[2] for i in 1:size(priceGenerated)[1]]\n",
    "feesGenerated = feesData[priceDataClosest]\n",
    "\n",
    "k = round.([kData; kGenerated])\n",
    "liquidity = round.([liquidityData; liquidityGenerated])\n",
    "\n",
    "# Save data to csv\n",
    "CSV.write(\"../data/ex_2_liquidity.csv\", Tables.table(liquidity, header=[\"ETH\", \"USDT\"]))\n",
    "CSV.write(\"../data/ex_2_k.csv\", Tables.table(k))\n",
    "CSV.write(\"../data/ex_2_fees.csv\", Tables.table(feesGenerated))"
   ]
  },
  {
   "cell_type": "code",
   "execution_count": null,
   "metadata": {},
   "outputs": [],
   "source": []
  }
 ],
 "metadata": {
  "kernelspec": {
   "display_name": "Julia (IAI) 1.8.2",
   "language": "julia",
   "name": "julia-(iai)-1.8"
  },
  "language_info": {
   "file_extension": ".jl",
   "mimetype": "application/julia",
   "name": "julia",
   "version": "1.8.2"
  },
  "orig_nbformat": 4
 },
 "nbformat": 4,
 "nbformat_minor": 2
}
