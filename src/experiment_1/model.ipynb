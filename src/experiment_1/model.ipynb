{
 "cells": [
  {
   "cell_type": "markdown",
   "metadata": {},
   "source": [
    "### AMM Optimization, 1st model"
   ]
  },
  {
   "cell_type": "code",
   "execution_count": 4,
   "metadata": {},
   "outputs": [],
   "source": [
    "using Gurobi, JuMP, CSV, Tables, Ipopt"
   ]
  },
  {
   "cell_type": "code",
   "execution_count": 10,
   "metadata": {},
   "outputs": [
    {
     "data": {
      "text/plain": [
       "optimize_order_execution (generic function with 1 method)"
      ]
     },
     "execution_count": 10,
     "metadata": {},
     "output_type": "execute_result"
    }
   ],
   "source": [
    "# With an order amount of token x\n",
    "function optimize_order_execution(liquidity, order_amount)\n",
    "\n",
    "    amount_token_x_per_pool = liquidity[:, 1] \n",
    "    amount_token_y_per_pool = liquidity[:, 2]\n",
    "\n",
    "    # Create a new model\n",
    "    model = Model(Ipopt.Optimizer)\n",
    "\n",
    "    # Create variables\n",
    "    @variable(model, x[1:size(liquidity,1)] >= 0)\n",
    "\n",
    "    # Set objective\n",
    "    @NLobjective(model, Min, sum(amount_token_y_per_pool[i] / (amount_token_x_per_pool[i]+ x[i]) for i in 1:size(liquidity,1)))\n",
    "\n",
    "    # Add constraint\n",
    "    @constraint(model, sum(x) == order_amount)\n",
    "    @constraint(model, x .<= amount_token_x_per_pool)\n",
    "\n",
    "    # Optimize model\n",
    "    optimize!(model)\n",
    "\n",
    "    # Return the optimal solution\n",
    "    return value.(x)\n",
    "end"
   ]
  },
  {
   "cell_type": "markdown",
   "metadata": {},
   "source": [
    "## EXPERIMENT 1: AMM Optimization, no transaction costs\n",
    "\n",
    "### Generating random data\n",
    "\n",
    "We just need to preserve the current magnitude. Also AMMs need to be close to each other in the absence of transaction costs."
   ]
  },
  {
   "cell_type": "code",
   "execution_count": 2,
   "metadata": {},
   "outputs": [],
   "source": [
    "ETH_USDT = 1210;"
   ]
  },
  {
   "cell_type": "code",
   "execution_count": 9,
   "metadata": {},
   "outputs": [],
   "source": [
    "ETH = rand(3000:3500, 12)\n",
    "USD = ETH .* ETH_USDT\n",
    "liquidity = [ETH USD];"
   ]
  },
  {
   "cell_type": "code",
   "execution_count": 21,
   "metadata": {},
   "outputs": [
    {
     "name": "stdout",
     "output_type": "stream",
     "text": [
      "Set parameter Username\n",
      "Academic license - for non-commercial use only - expires 2023-08-17\n"
     ]
    },
    {
     "data": {
      "text/plain": [
       "12"
      ]
     },
     "execution_count": 21,
     "metadata": {},
     "output_type": "execute_result"
    }
   ],
   "source": [
    "amount_token_x_per_pool = liquidity[:, 1]\n",
    "amount_token_y_per_pool = liquidity[:, 2]\n",
    "\n",
    "model = Model(Gurobi.Optimizer)\n",
    "\n",
    "#@variable(model, 0 <= x[1:length(liquidity)] <= amount_token_x_per_pool[1:length(liquidity)])\n",
    "size(liquidity,1)"
   ]
  },
  {
   "cell_type": "code",
   "execution_count": 74,
   "metadata": {},
   "outputs": [
    {
     "name": "stdout",
     "output_type": "stream",
     "text": [
      "This is Ipopt version 3.14.4, running with linear solver MUMPS 5.4.1.\n",
      "\n",
      "Number of nonzeros in equality constraint Jacobian...:       12\n",
      "Number of nonzeros in inequality constraint Jacobian.:       12\n",
      "Number of nonzeros in Lagrangian Hessian.............:       12\n",
      "\n",
      "Total number of variables............................:       12\n",
      "                     variables with only lower bounds:       12\n",
      "                variables with lower and upper bounds:        0\n",
      "                     variables with only upper bounds:        0\n",
      "Total number of equality constraints.................:        1\n",
      "Total number of inequality constraints...............:       12\n",
      "        inequality constraints with only lower bounds:        0\n",
      "   inequality constraints with lower and upper bounds:        0\n",
      "        inequality constraints with only upper bounds:       12\n",
      "\n",
      "iter    objective    inf_pr   inf_du lg(mu)  ||d||  lg(rg) alpha_du alpha_pr  ls\n",
      "   0  1.4519955e+04 1.00e+03 1.39e-02  -1.0 0.00e+00    -  0.00e+00 0.00e+00   0\n",
      "   1  1.4155022e+04 1.14e-13 8.32e+03  -1.0 8.33e+01    -  1.19e-04 1.00e+00f  1\n",
      "   2  1.4152815e+04 1.14e-13 2.47e-01  -1.0 3.59e+01    -  7.55e-01 1.00e+00f  1\n",
      "   3  1.4151303e+04 0.00e+00 4.95e-03  -1.0 4.82e+01    -  9.80e-01 1.00e+00f  1\n",
      "   4  1.4151118e+04 0.00e+00 3.80e-05  -1.0 1.74e+01    -  9.96e-01 1.00e+00f  1\n",
      "   5  1.4151067e+04 1.14e-13 3.04e-06  -1.7 5.67e+00    -  1.00e+00 1.00e+00f  1\n",
      "   6  1.4151046e+04 1.14e-13 1.62e-06  -2.5 4.23e+00    -  1.00e+00 1.00e+00f  1\n",
      "   7  1.4151039e+04 1.14e-13 2.68e-07  -3.8 1.73e+00    -  1.00e+00 1.00e+00f  1\n",
      "   8  1.4151038e+04 1.14e-13 5.29e-09  -5.7 2.43e-01    -  1.00e+00 1.00e+00f  1\n",
      "   9  1.4151038e+04 1.14e-13 1.70e-12  -8.6 4.33e-03    -  1.00e+00 1.00e+00f  1\n",
      "\n",
      "Number of Iterations....: 9\n",
      "\n",
      "                                   (scaled)                 (unscaled)\n",
      "Objective...............:   1.4151037833906066e+04    1.4151037833906066e+04\n",
      "Dual infeasibility......:   1.7036719257568222e-12    1.7036719257568222e-12\n",
      "Constraint violation....:   1.1368683772161603e-13    1.1368683772161603e-13\n",
      "Variable bound violation:   0.0000000000000000e+00    0.0000000000000000e+00\n",
      "Complementarity.........:   6.8718479733972674e-09    6.8718479733972674e-09\n",
      "Overall NLP error.......:   6.8718479733972674e-09    6.8718479733972674e-09\n",
      "\n",
      "\n",
      "Number of objective function evaluations             = 10\n",
      "Number of objective gradient evaluations             = 10\n",
      "Number of equality constraint evaluations            = 10\n",
      "Number of inequality constraint evaluations          = 10\n",
      "Number of equality constraint Jacobian evaluations   = 1\n",
      "Number of inequality constraint Jacobian evaluations = 1\n",
      "Number of Lagrangian Hessian evaluations             = 9\n",
      "Total seconds in IPOPT                               = 0.004\n",
      "\n",
      "EXIT: Optimal Solution Found.\n"
     ]
    },
    {
     "data": {
      "text/plain": [
       "12-element Vector{Float64}:\n",
       " 114.81120175356594\n",
       " 113.36517827613255\n",
       "  40.14836805870186\n",
       " 112.88300713600246\n",
       " 190.83919846697503\n",
       "  52.96541003058026\n",
       " 142.14465525449506\n",
       "  27.27983737100211\n",
       "  26.783873794529306\n",
       "  97.41065877431663\n",
       "  81.3686092071725\n",
       "   1.8765262275403233e-6"
      ]
     },
     "execution_count": 74,
     "metadata": {},
     "output_type": "execute_result"
    }
   ],
   "source": [
    "split_trades = optimize_order_execution(test, 1000)"
   ]
  }
 ],
 "metadata": {
  "kernelspec": {
   "display_name": "Julia (IAI) 1.8.2",
   "language": "julia",
   "name": "julia-(iai)-1.8"
  },
  "language_info": {
   "file_extension": ".jl",
   "mimetype": "application/julia",
   "name": "julia",
   "version": "1.8.2"
  },
  "orig_nbformat": 4
 },
 "nbformat": 4,
 "nbformat_minor": 2
}
