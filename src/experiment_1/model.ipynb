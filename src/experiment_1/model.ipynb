{
 "cells": [
  {
   "cell_type": "markdown",
   "metadata": {},
   "source": [
    "### AMM Optimization, 1st model"
   ]
  },
  {
   "cell_type": "code",
   "execution_count": 1,
   "metadata": {},
   "outputs": [],
   "source": [
    "using Gurobi, JuMP, CSV, Tables"
   ]
  },
  {
   "cell_type": "code",
   "execution_count": null,
   "metadata": {},
   "outputs": [],
   "source": [
    "# Load data\n",
    "data = CSV.read(\"experiment_1_liquidity.csv\", Tables.matrix; header=0)\n",
    "\n",
    "# Transform the data into a vector of liquidity values\n",
    "liquidity = data[:, 2]"
   ]
  },
  {
   "cell_type": "code",
   "execution_count": null,
   "metadata": {},
   "outputs": [],
   "source": [
    "# With an order amount of token x\n",
    "\n",
    "function optimize_order_execution(amount_token_x_per_pool, amount_token_y_per_pool, liquidity, order_amount)\n",
    "    # Create a new model\n",
    "    model = Model(Gurobi.Optimizer)\n",
    "\n",
    "    # Create variables\n",
    "    @variable(model, 0 <= x[1:length(liquidity)] <= amount_token_x_per_pool)\n",
    "\n",
    "    # Set objective\n",
    "    @objective(model, Min, sum(amount_token_y_per_pool[i] / (amount_token_x_per_pool[i]+ x[i]) for i in 1:length(liquidity)))\n",
    "\n",
    "    # Add constraint\n",
    "    @constraint(model, sum(x) == order_amount)\n",
    "\n",
    "    # Optimize model\n",
    "    optimize!(model)\n",
    "\n",
    "    # Return the optimal solution\n",
    "    return value.(x)\n",
    "end\n",
    "\n",
    "x = optimize_order_execution(liquidity, liquidity, liquidity, 1000)"
   ]
  },
  {
   "cell_type": "code",
   "execution_count": null,
   "metadata": {},
   "outputs": [],
   "source": []
  }
 ],
 "metadata": {
  "kernelspec": {
   "display_name": "Julia 1.8.0",
   "language": "julia",
   "name": "julia-1.8"
  },
  "language_info": {
   "file_extension": ".jl",
   "mimetype": "application/julia",
   "name": "julia",
   "version": "1.8.0"
  },
  "orig_nbformat": 4
 },
 "nbformat": 4,
 "nbformat_minor": 2
}
