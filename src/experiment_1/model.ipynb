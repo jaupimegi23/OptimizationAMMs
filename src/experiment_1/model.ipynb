{
 "cells": [
  {
   "cell_type": "markdown",
   "metadata": {},
   "source": [
    "### AMM Optimization, 1st model"
   ]
  },
  {
   "cell_type": "code",
   "execution_count": 1,
   "metadata": {},
   "outputs": [],
   "source": [
    "using Gurobi, JuMP, CSV, Tables, Ipopt"
   ]
  },
  {
   "cell_type": "code",
   "execution_count": 2,
   "metadata": {},
   "outputs": [
    {
     "data": {
      "text/plain": [
       "optimize_market_impact (generic function with 1 method)"
      ]
     },
     "execution_count": 2,
     "metadata": {},
     "output_type": "execute_result"
    }
   ],
   "source": [
    "# With an order amount of token x\n",
    "function optimize_market_impact(liquidity, order_amount)\n",
    "\n",
    "    amount_token_x_per_pool = liquidity[:, 1] \n",
    "    amount_token_y_per_pool = liquidity[:, 2]\n",
    "\n",
    "    # Create a new model\n",
    "    model = Model(Ipopt.Optimizer)\n",
    "\n",
    "    # Create variables\n",
    "    @variable(model, x[1:size(liquidity,1)] >= 0)\n",
    "\n",
    "    # Set objective\n",
    "    @NLobjective(model, Min, sum(amount_token_y_per_pool[i] / (amount_token_x_per_pool[i]- x[i]) for i in 1:size(liquidity,1)))\n",
    "\n",
    "    # Add constraint\n",
    "    @constraint(model, sum(x) == order_amount)\n",
    "    @constraint(model, x .<= amount_token_x_per_pool)\n",
    "\n",
    "    # Optimize model\n",
    "    optimize!(model)\n",
    "\n",
    "    # Return the optimal solution\n",
    "    return value.(x)\n",
    "end"
   ]
  },
  {
   "cell_type": "code",
   "execution_count": 3,
   "metadata": {},
   "outputs": [
    {
     "data": {
      "text/plain": [
       "optimize_price_paid (generic function with 1 method)"
      ]
     },
     "execution_count": 3,
     "metadata": {},
     "output_type": "execute_result"
    }
   ],
   "source": [
    "# With an order amount of token x\n",
    "function optimize_price_paid(liquidity, order_amount)\n",
    "\n",
    "    amount_token_x_per_pool = liquidity[:, 1] \n",
    "    amount_token_y_per_pool = liquidity[:, 2]\n",
    "\n",
    "    # Create a new model\n",
    "    model = Model(Ipopt.Optimizer)\n",
    "\n",
    "    # Create variables\n",
    "    @variable(model, x[1:size(liquidity,1)] >= 0)\n",
    "\n",
    "    # Set objective\n",
    "    @NLobjective(model, Min, sum((amount_token_y_per_pool[i] * x[i])/ (amount_token_x_per_pool[i]- x[i]) for i in 1:size(liquidity,1)))\n",
    "\n",
    "    # Add constraint\n",
    "    @constraint(model, sum(x) == order_amount)\n",
    "    @constraint(model, x .<= amount_token_x_per_pool)\n",
    "\n",
    "    # Optimize model\n",
    "    optimize!(model)\n",
    "\n",
    "    # Return the optimal solution\n",
    "    return value.(x)\n",
    "end"
   ]
  },
  {
   "cell_type": "markdown",
   "metadata": {},
   "source": [
    "## EXPERIMENT 1: AMM Optimization, no transaction costs\n",
    "\n",
    "### Generating random data\n",
    "\n",
    "We just need to preserve the current magnitude. Also AMMs need to be close to each other in the absence of transaction costs."
   ]
  },
  {
   "cell_type": "code",
   "execution_count": 4,
   "metadata": {},
   "outputs": [],
   "source": [
    "ETH_USDT = 1210;"
   ]
  },
  {
   "cell_type": "code",
   "execution_count": 5,
   "metadata": {},
   "outputs": [],
   "source": [
    "ETH = rand(3000:3500, 12)\n",
    "USD = ETH .* ETH_USDT\n",
    "liquidity = [ETH USD];"
   ]
  },
  {
   "cell_type": "code",
   "execution_count": 6,
   "metadata": {},
   "outputs": [
    {
     "name": "stdout",
     "output_type": "stream",
     "text": [
      "Set parameter Username\n",
      "Academic license - for non-commercial use only - expires 2023-08-18\n"
     ]
    },
    {
     "data": {
      "text/plain": [
       "12"
      ]
     },
     "execution_count": 6,
     "metadata": {},
     "output_type": "execute_result"
    }
   ],
   "source": [
    "amount_token_x_per_pool = liquidity[:, 1]\n",
    "amount_token_y_per_pool = liquidity[:, 2]\n",
    "\n",
    "model = Model(Gurobi.Optimizer)\n",
    "\n",
    "#@variable(model, 0 <= x[1:length(liquidity)] <= amount_token_x_per_pool[1:length(liquidity)])\n",
    "size(liquidity,1)"
   ]
  },
  {
   "cell_type": "markdown",
   "metadata": {},
   "source": [
    "#### First experiment: optimization of the market impact\n",
    "\n",
    "We want to split our large trade into many single trades, such that we minimize the market impact, meaning that the influence of our trade on each AMM is the lowest possible"
   ]
  },
  {
   "cell_type": "code",
   "execution_count": 7,
   "metadata": {},
   "outputs": [
    {
     "name": "stdout",
     "output_type": "stream",
     "text": [
      "\n",
      "******************************************************************************\n",
      "This program contains Ipopt, a library for large-scale nonlinear optimization.\n",
      " Ipopt is released as open source code under the Eclipse Public License (EPL).\n",
      "         For more information visit https://github.com/coin-or/Ipopt\n",
      "******************************************************************************\n",
      "\n",
      "This is Ipopt version 3.14.4, running with linear solver MUMPS 5.4.1.\n",
      "\n",
      "Number of nonzeros in equality constraint Jacobian...:       12\n",
      "Number of nonzeros in inequality constraint Jacobian.:       12\n",
      "Number of nonzeros in Lagrangian Hessian.............:       12\n",
      "\n",
      "Total number of variables............................:       12\n",
      "                     variables with only lower bounds:       12\n",
      "                variables with lower and upper bounds:        0\n",
      "                     variables with only upper bounds:        0\n",
      "Total number of equality constraints.................:        1\n",
      "Total number of inequality constraints...............:       12\n",
      "        inequality constraints with only lower bounds:        0\n",
      "   inequality constraints with lower and upper bounds:        0\n",
      "        inequality constraints with only upper bounds:       12\n",
      "\n",
      "iter    objective    inf_pr   inf_du lg(mu)  ||d||  lg(rg) alpha_du alpha_pr  ls\n",
      "   0  1.4520044e+04 1.00e+03 1.64e-02  -1.0 0.00e+00    -  0.00e+00 0.00e+00   0\n",
      "   1  1.4899518e+04 0.00e+00 8.32e+03  -1.0 8.33e+01    -  1.19e-04 1.00e+00h  1\n",
      "   2  1.4893229e+04 0.00e+00 2.81e-01  -1.0 5.00e+01    -  7.24e-01 1.00e+00f  1\n",
      "   3  1.4890196e+04 1.14e-13 8.32e-03  -1.0 4.59e+01    -  9.77e-01 8.37e-01f  1\n",
      "   4  1.4889950e+04 0.00e+00 8.47e-05  -1.0 1.75e+01    -  9.92e-01 1.00e+00f  1\n",
      "   5  1.4889742e+04 2.27e-13 4.44e-06  -1.7 5.87e+00    -  1.00e+00 1.00e+00f  1\n",
      "   6  1.4889667e+04 1.14e-13 8.48e-07  -2.5 2.67e+00    -  1.00e+00 1.00e+00f  1\n",
      "   7  1.4889654e+04 1.14e-13 8.88e-08  -3.8 8.58e-01    -  1.00e+00 1.00e+00f  1\n",
      "   8  1.4889653e+04 1.14e-13 5.61e-10  -5.7 6.87e-02    -  1.00e+00 1.00e+00f  1\n",
      "   9  1.4889653e+04 1.14e-13 2.51e-14  -8.6 5.73e-04    -  1.00e+00 1.00e+00f  1\n",
      "\n",
      "Number of Iterations....: 9\n",
      "\n",
      "                                   (scaled)                 (unscaled)\n",
      "Objective...............:   1.4889653029693562e+04    1.4889653029693562e+04\n",
      "Dual infeasibility......:   2.5059035596809423e-14    2.5059035596809423e-14\n",
      "Constraint violation....:   1.1368683772161603e-13    1.1368683772161603e-13\n",
      "Variable bound violation:   0.0000000000000000e+00    0.0000000000000000e+00\n",
      "Complementarity.........:   2.6187229579720945e-09    2.6187229579720945e-09\n",
      "Overall NLP error.......:   2.6187229579720945e-09    2.6187229579720945e-09\n",
      "\n",
      "\n",
      "Number of objective function evaluations             = 10\n",
      "Number of objective gradient evaluations             = 10\n",
      "Number of equality constraint evaluations            = 10\n",
      "Number of inequality constraint evaluations          = 10\n",
      "Number of equality constraint Jacobian evaluations   = 1\n",
      "Number of inequality constraint Jacobian evaluations = 1\n",
      "Number of Lagrangian Hessian evaluations             = 9\n",
      "Total seconds in IPOPT                               = 2.486\n",
      "\n",
      "EXIT: Optimal Solution Found.\n"
     ]
    },
    {
     "data": {
      "text/plain": [
       "12-element Vector{Float64}:\n",
       "   4.2955886680258633e-7\n",
       " 184.44433838911843\n",
       "  20.14818817952632\n",
       "  96.99618294865975\n",
       " 108.85015518912874\n",
       " 100.59985254267082\n",
       "   1.3555358710554317e-7\n",
       "  30.227097027858466\n",
       " 115.56712273093163\n",
       " 160.8275789939863\n",
       " 182.33948324975034\n",
       "   1.8325670362299333e-7"
      ]
     },
     "execution_count": 7,
     "metadata": {},
     "output_type": "execute_result"
    }
   ],
   "source": [
    "split_trades = optimize_market_impact(liquidity, 1000)"
   ]
  },
  {
   "cell_type": "markdown",
   "metadata": {},
   "source": [
    "### If we have pools with exactly the same magnitude, we have:"
   ]
  },
  {
   "cell_type": "code",
   "execution_count": 8,
   "metadata": {},
   "outputs": [
    {
     "name": "stdout",
     "output_type": "stream",
     "text": [
      "This is Ipopt version 3.14.4, running with linear solver MUMPS 5.4.1.\n",
      "\n",
      "Number of nonzeros in equality constraint Jacobian...:       12\n",
      "Number of nonzeros in inequality constraint Jacobian.:       12\n",
      "Number of nonzeros in Lagrangian Hessian.............:       12\n",
      "\n",
      "Total number of variables............................:       12\n",
      "                     variables with only lower bounds:       12\n",
      "                variables with lower and upper bounds:        0\n",
      "                     variables with only upper bounds:        0\n",
      "Total number of equality constraints.................:        1\n",
      "Total number of inequality constraints...............:       12\n",
      "        inequality constraints with only lower bounds:        0\n",
      "   inequality constraints with lower and upper bounds:        0\n",
      "        inequality constraints with only upper bounds:       12\n",
      "\n",
      "iter    objective    inf_pr   inf_du lg(mu)  ||d||  lg(rg) alpha_du alpha_pr  ls\n",
      "   0  1.4520048e+04 1.00e+03 0.00e+00  -1.0 0.00e+00    -  0.00e+00 0.00e+00   0\n",
      "   1  1.4934857e+04 1.14e-13 8.32e+03  -1.0 8.33e+01    -  1.19e-04 1.00e+00h  1\n",
      "   2  1.4934857e+04 1.14e-13 9.97e-03  -1.0 8.52e-10    -  9.90e-01 1.00e+00h  1\n",
      "   3  1.4934857e+04 0.00e+00 6.67e-05  -1.0 8.40e-10    -  9.93e-01 5.00e-01h  2\n",
      "   4  1.4934857e+04 2.27e-13 2.00e-07  -1.7 4.16e-10    -  1.00e+00 1.00e+00f  1\n",
      "   5  1.4934857e+04 2.27e-13 1.50e-09  -3.8 1.57e-11    -  1.00e+00 1.00e+00h  1\n",
      "   6  1.4934857e+04 0.00e+00 1.84e-11  -5.7 6.51e-13    -  1.00e+00 1.00e+00h  1\n",
      "   7  1.4934857e+04 3.41e-13 2.51e-14  -8.6 3.16e-13    -  1.00e+00 1.00e+00f  1\n",
      "\n",
      "Number of Iterations....: 7\n",
      "\n",
      "                                   (scaled)                 (unscaled)\n",
      "Objective...............:   1.4934857142857138e+04    1.4934857142857138e+04\n",
      "Dual infeasibility......:   2.5059035596809423e-14    2.5059035596809423e-14\n",
      "Constraint violation....:   3.4106051316484809e-13    3.4106051316484809e-13\n",
      "Variable bound violation:   0.0000000000000000e+00    0.0000000000000000e+00\n",
      "Complementarity.........:   2.5059035596815205e-09    2.5059035596815205e-09\n",
      "Overall NLP error.......:   2.5059035596815205e-09    2.5059035596815205e-09\n",
      "\n",
      "\n",
      "Number of objective function evaluations             = 10\n",
      "Number of objective gradient evaluations             = 8\n",
      "Number of equality constraint evaluations            = 10\n",
      "Number of inequality constraint evaluations          = 10\n",
      "Number of equality constraint Jacobian evaluations   = 1\n",
      "Number of inequality constraint Jacobian evaluations = 1\n",
      "Number of Lagrangian Hessian evaluations             = 7\n",
      "Total seconds in IPOPT                               = 0.006\n",
      "\n",
      "EXIT: Optimal Solution Found.\n"
     ]
    },
    {
     "data": {
      "text/plain": [
       "12-element Vector{Float64}:\n",
       " 83.3333333333335\n",
       " 83.3333333333335\n",
       " 83.33333333333329\n",
       " 83.33333333333329\n",
       " 83.33333333333329\n",
       " 83.33333333333329\n",
       " 83.33333333333329\n",
       " 83.33333333333329\n",
       " 83.33333333333329\n",
       " 83.33333333333329\n",
       " 83.33333333333329\n",
       " 83.33333333333329"
      ]
     },
     "execution_count": 8,
     "metadata": {},
     "output_type": "execute_result"
    }
   ],
   "source": [
    "ETH_USDT = 1210;\n",
    "ETH = rand(3000:3000, 12)\n",
    "USD = ETH .* ETH_USDT\n",
    "liquidity = [ETH USD];\n",
    "\n",
    "amount_token_x_per_pool = liquidity[:, 1]\n",
    "amount_token_y_per_pool = liquidity[:, 2]\n",
    "\n",
    "split_trades = optimize_market_impact(liquidity, 1000) "
   ]
  },
  {
   "cell_type": "markdown",
   "metadata": {},
   "source": [
    "As expected, we split the order into 12 trades, each of 1000/12 = 83.33 ETH. The total amount of ETH we get is 1000, as expected."
   ]
  },
  {
   "cell_type": "markdown",
   "metadata": {},
   "source": [
    " Now we study what happens when we have pools with different magnitudes. We can do the analysis on the sorted list of pools as it does not change anything. and will be easier to interpret"
   ]
  },
  {
   "cell_type": "code",
   "execution_count": 9,
   "metadata": {},
   "outputs": [
    {
     "name": "stdout",
     "output_type": "stream",
     "text": [
      "ETH amount[3032, 3037, 3050, 3076, 3117, 3186, 3215, 3252, 3279, 3307, 3315, 3400]\n",
      "USDT amount[3668720, 3674770, 3690500, 3721960, 3771570, 3855060, 3890150, 3934920, 3967590, 4001470, 4011150, 4114000]\n",
      "Order amount1000\n",
      "This is Ipopt version 3.14.4, running with linear solver MUMPS 5.4.1.\n",
      "\n",
      "Number of nonzeros in equality constraint Jacobian...:       12\n",
      "Number of nonzeros in inequality constraint Jacobian.:       12\n",
      "Number of nonzeros in Lagrangian Hessian.............:       12\n",
      "\n",
      "Total number of variables............................:       12\n",
      "                     variables with only lower bounds:       12\n",
      "                variables with lower and upper bounds:        0\n",
      "                     variables with only upper bounds:        0\n",
      "Total number of equality constraints.................:        1\n",
      "Total number of inequality constraints...............:       12\n",
      "        inequality constraints with only lower bounds:        0\n",
      "   inequality constraints with lower and upper bounds:        0\n",
      "        inequality constraints with only upper bounds:       12\n",
      "\n",
      "iter    objective    inf_pr   inf_du lg(mu)  ||d||  lg(rg) alpha_du alpha_pr  ls\n",
      "   0  1.4520046e+04 1.00e+03 1.21e-02  -1.0 0.00e+00    -  0.00e+00 0.00e+00   0\n",
      "   1  1.4910210e+04 1.14e-13 8.32e+03  -1.0 8.33e+01    -  1.19e-04 1.00e+00h  1\n",
      "   2  1.4906710e+04 0.00e+00 2.76e-01  -1.0 4.02e+01    -  7.27e-01 1.00e+00f  1\n",
      "   3  1.4904718e+04 1.14e-13 5.41e-03  -1.0 4.78e+01    -  9.81e-01 1.00e+00f  1\n",
      "   4  1.4904465e+04 0.00e+00 4.05e-05  -1.0 1.44e+01    -  9.96e-01 1.00e+00f  1\n",
      "   5  1.4904406e+04 0.00e+00 3.29e-06  -1.7 5.13e+00    -  1.00e+00 1.00e+00f  1\n",
      "   6  1.4904386e+04 2.27e-13 2.22e-06  -2.5 4.13e+00    -  1.00e+00 1.00e+00f  1\n",
      "   7  1.4904382e+04 0.00e+00 8.04e-07  -3.8 2.48e+00    -  1.00e+00 1.00e+00f  1\n",
      "   8  1.4904381e+04 0.00e+00 1.52e-07  -3.8 1.08e+00    -  1.00e+00 1.00e+00f  1\n",
      "   9  1.4904381e+04 1.14e-13 2.08e-08  -5.7 3.99e-01    -  1.00e+00 1.00e+00f  1\n",
      "iter    objective    inf_pr   inf_du lg(mu)  ||d||  lg(rg) alpha_du alpha_pr  ls\n",
      "  10  1.4904381e+04 0.00e+00 3.00e-10  -5.7 4.93e-02    -  1.00e+00 1.00e+00f  1\n",
      "  11  1.4904381e+04 0.00e+00 7.73e-13  -8.6 2.47e-03    -  1.00e+00 1.00e+00f  1\n",
      "\n",
      "Number of Iterations....: 11\n",
      "\n",
      "                                   (scaled)                 (unscaled)\n",
      "Objective...............:   1.4904381447529026e+04    1.4904381447529026e+04\n",
      "Dual infeasibility......:   7.7275578584118382e-13    7.7275578584118382e-13\n",
      "Constraint violation....:   0.0000000000000000e+00    0.0000000000000000e+00\n",
      "Variable bound violation:   0.0000000000000000e+00    0.0000000000000000e+00\n",
      "Complementarity.........:   4.4093828294842702e-09    4.4093828294842702e-09\n",
      "Overall NLP error.......:   4.4093828294842702e-09    4.4093828294842702e-09\n",
      "\n",
      "\n",
      "Number of objective function evaluations             = 12\n",
      "Number of objective gradient evaluations             = 12\n",
      "Number of equality constraint evaluations            = 12\n",
      "Number of inequality constraint evaluations          = 12\n",
      "Number of equality constraint Jacobian evaluations   = 1\n",
      "Number of inequality constraint Jacobian evaluations = 1\n",
      "Number of Lagrangian Hessian evaluations             = 11\n",
      "Total seconds in IPOPT                               = 0.015\n",
      "\n",
      "EXIT: Optimal Solution Found.\n"
     ]
    },
    {
     "data": {
      "text/plain": [
       "12-element Vector{Float64}:\n",
       "   3.2969537168677565\n",
       "   5.8006976075690995\n",
       "  12.32003941963829\n",
       "  25.400026677635907\n",
       "  46.136604236323485\n",
       "  81.33330864164445\n",
       "  96.23547771183837\n",
       " 115.34058207968648\n",
       " 129.34631020313523\n",
       " 143.92715275909373\n",
       " 148.10355166673102\n",
       " 192.75929527983612"
      ]
     },
     "execution_count": 9,
     "metadata": {},
     "output_type": "execute_result"
    }
   ],
   "source": [
    "ETH_USDT = 1210;\n",
    "# arrange for ETH\n",
    "ETH = rand(3000:3500, 12)\n",
    "ETH = sort(ETH, rev=false)\n",
    "USD = ETH .* ETH_USDT\n",
    "liquidity = [ETH USD];\n",
    "\n",
    "println(\"ETH amount\", liquidity[:, 1])\n",
    "println(\"USDT amount\", liquidity[:, 2])\n",
    "order_amount = 1000\n",
    "println(\"Order amount\", order_amount)\n",
    "\n",
    "split_trades = optimize_market_impact(liquidity, order_amount)"
   ]
  },
  {
   "cell_type": "markdown",
   "metadata": {},
   "source": [
    "We can now compare that with the price we would have gotten if we had used the pool with the highest magnitude."
   ]
  },
  {
   "cell_type": "markdown",
   "metadata": {},
   "source": [
    "##### Price paid analysis"
   ]
  },
  {
   "cell_type": "markdown",
   "metadata": {},
   "source": [
    "Here I want to get 1000 ETH, what will be my execution price?\n",
    "\n",
    "\\begin{gather*}\n",
    "    (x_{eth} - \\Delta x_{eth}) (y_{usd} + \\Delta y_{usd}) = x_{eth}y_{usd} \\\\\n",
    "    \\Delta y_{usd} = \\frac{y_{usd} \\Delta x_{eth}}{x_{eth} - \\Delta x_{eth}} \\\\    \n",
    "\\end{gather*}\n",
    "\n",
    "Where $x_{eth}$ and $y_{usd}$ are the current balances of the pool ($liq_{i, 1}$ and $liq_{i, 2}$)\n",
    "\n",
    "Finally, the order execution price one AMM is:\n",
    "\n",
    "\\begin{gather*}\n",
    "    p_{exec} = \\frac{\\Delta y_{usd}}{\\Delta x_{eth}} = \\frac{y_{usd}}{x_{eth} - \\Delta x_{eth}}\n",
    "\\end{gather*}\n",
    "\n",
    "If we split the order over all the AMMs, the overall execution price would be\n",
    "\n",
    "\\begin{gather*}\n",
    "    p_{exec} = \\sum_{i=1}^{n} \\frac{y_{i, usd}}{x_{i, eth} - \\Delta x_{i, eth}} * \\frac{\\Delta x_{i, eth}}{order\\_size}\n",
    "\\end{gather*}\n"
   ]
  },
  {
   "cell_type": "code",
   "execution_count": 10,
   "metadata": {},
   "outputs": [
    {
     "name": "stdout",
     "output_type": "stream",
     "text": [
      "Price with split trades: 1259.226411609393\n",
      "Price without split trades: [1805.4724409448818, 1804.0108001963672, 1800.2439024390244, 1792.8516377649325, 1781.5635333018422, 1763.5224153705399, 1756.2753950338601, 1747.3001776198935, 1740.9346204475646, 1734.4906805374947, 1732.6781857451404, 1714.1666666666667]\n",
      "Price with even split on all Amms: 1242.5174788492407\n"
     ]
    }
   ],
   "source": [
    "price = sum((split_trades[i]/order_amount)*liquidity[i, 2] / (liquidity[i, 1] - split_trades[i]) for i in 1:size(liquidity,1)) \n",
    "price_exec_baseline_pool = [liquidity[i, 2] / (liquidity[i, 1] - order_amount) for i in 1:size(liquidity,1)]\n",
    "avg_split = [order_amount / size(liquidity,1) for i in 1:size(liquidity,1)]\n",
    "price_avg_amm = sum((avg_split[i]/order_amount)*liquidity[i, 2] / (liquidity[i, 1] - avg_split[i]) for i in 1:size(liquidity,1))\n",
    "println(\"Price with split trades: \", price)\n",
    "println(\"Price without split trades: \", price_exec_baseline_pool)\n",
    "println(\"Price with even split on all Amms: \", price_avg_amm)\n"
   ]
  },
  {
   "cell_type": "markdown",
   "metadata": {},
   "source": [
    "We see here that our average buying price is actualy higer that the price we would have gotten if we had splitted the order equally over the different AMMs."
   ]
  },
  {
   "cell_type": "markdown",
   "metadata": {},
   "source": [
    "##### Market impact analysis"
   ]
  },
  {
   "cell_type": "markdown",
   "metadata": {},
   "source": [
    "The optimization model that we ran was optimizing the trades to minimize the market impact. That said, we want to evaluate, what is the price post trade in each pool.\n",
    "It is given by the following formula : \n",
    "\n",
    "\\begin{gather*}\n",
    "    p_{post} = \\frac{y_{i, usd} + \\Delta y_{i, usd}}{x_{i, eth} - \\Delta x_{i, eth}}\n",
    "\\end{gather*}"
   ]
  },
  {
   "cell_type": "code",
   "execution_count": 11,
   "metadata": {},
   "outputs": [
    {
     "name": "stdout",
     "output_type": "stream",
     "text": [
      "Simulated price after trade per pool: [1212.6357719850093, 1214.6354985335215, 1219.8347935597342, 1230.2333849144704, 1246.631163964793, 1274.2274264228843, 1285.8258555872649, 1300.62385142301, 1311.422388927158, 1322.620872266227, 1325.8204389347427, 1359.8158347916212]\n",
      "Simulated price after trade per pool if we had done an average split: [1279.3589262630355, 1279.2398814778717, 1278.9322686529479, 1278.3251691059768, 1277.3892458439368, 1275.8707274832227, 1275.252740224792, 1274.480906983836, 1273.9291004715683, 1273.3667428857132, 1273.2078816486649, 1271.5678896997551]\n",
      "Simulated price after trade per pool if we had done the trade on a single pool (displayed for all the pools): [2693.9923429846863, 2689.6322043182954, 2678.4116597263533, 2656.4603264763646, 2623.114564620615, 2570.257280590366, 2549.176250579621, 2523.1883559591, 2504.8374815478564, 2486.328860224315, 2481.1352854190673, 2428.402777777778]\n"
     ]
    }
   ],
   "source": [
    "del_y = [liquidity[i, 2]*split_trades[i]/(liquidity[i, 1] - split_trades[i]) for i in 1:size(liquidity,1)]\n",
    "price_post_trade_per_pool = [(liquidity[i, 2] + del_y[i])/ (liquidity[i, 1] - split_trades[i]) for i in 1:size(liquidity,1)]\n",
    "\n",
    "# Comparison with an average split\n",
    "avg_split = [order_amount / size(liquidity,1) for i in 1:size(liquidity,1)]\n",
    "del_y_avg = [liquidity[i, 2]*avg_split[i]/(liquidity[i, 1] - avg_split[i]) for i in 1:size(liquidity,1)]\n",
    "price_post_trade_per_pool_avg = [(liquidity[i, 2] + del_y_avg[i])/ (liquidity[i, 1] - avg_split[i]) for i in 1:size(liquidity,1)]\n",
    "\n",
    "# Comparison with doing the trade on a single pool (each element in the array is \"if we did the trade on this pool\")\n",
    "del_y_pool = [liquidity[i, 2]*order_amount/(liquidity[i, 1] - order_amount) for i in 1:size(liquidity,1)]\n",
    "price_post_trade_per_pool_pool = [(liquidity[i, 2] + del_y_pool[i])/ (liquidity[i, 1] - order_amount) for i in 1:size(liquidity,1)]\n",
    "\n",
    "println(\"Simulated price after trade per pool: \", price_post_trade_per_pool)\n",
    "println(\"Simulated price after trade per pool if we had done an average split: \", price_post_trade_per_pool_avg)\n",
    "println(\"Simulated price after trade per pool if we had done the trade on a single pool (displayed for all the pools): \", price_post_trade_per_pool_pool)"
   ]
  },
  {
   "cell_type": "markdown",
   "metadata": {},
   "source": [
    "### Second experiment: optimization of the execution price\n",
    "\n",
    "We don't care anymore of the market impact, we just want to minimize the execution price. \n",
    "Nb: This approach is a simulation and we shouldn't actually do that in real life, because the markets are correlated, and we don't model time here. SO if we have a big market impact on one AMM, there would be arbitrageurs that would take advantage of that."
   ]
  },
  {
   "cell_type": "code",
   "execution_count": 13,
   "metadata": {},
   "outputs": [
    {
     "name": "stdout",
     "output_type": "stream",
     "text": [
      "ETH amount[3010, 3024, 3036, 3090, 3191, 3200, 3214, 3241, 3395, 3463, 3475, 3476]\n",
      "USDT amount[3642100, 3659040, 3673560, 3738900, 3861110, 3872000, 3888940, 3921610, 4107950, 4190230, 4204750, 4205960]\n",
      "Order amount1000\n",
      "This is Ipopt version 3.14.4, running with linear solver MUMPS 5.4.1.\n",
      "\n",
      "Number of nonzeros in equality constraint Jacobian...:       12\n",
      "Number of nonzeros in inequality constraint Jacobian.:       12\n",
      "Number of nonzeros in Lagrangian Hessian.............:       12\n",
      "\n",
      "Total number of variables............................:       12\n",
      "                     variables with only lower bounds:       12\n",
      "                variables with lower and upper bounds:        0\n",
      "                     variables with only upper bounds:        0\n",
      "Total number of equality constraints.................:        1\n",
      "Total number of inequality constraints...............:       12\n",
      "        inequality constraints with only lower bounds:        0\n",
      "   inequality constraints with lower and upper bounds:        0\n",
      "        inequality constraints with only upper bounds:       12\n",
      "\n",
      "iter    objective    inf_pr   inf_du lg(mu)  ||d||  lg(rg) alpha_du alpha_pr  ls\n",
      "   0  1.4520030e+02 1.00e+03 2.23e-05  -1.0 0.00e+00    -  0.00e+00 0.00e+00   0\n",
      "   1  1.2420919e+06 1.14e-13 8.32e+03  -1.0 8.33e+01    -  1.19e-04 1.00e+00h  1\n",
      "   2  1.2419979e+06 0.00e+00 1.19e-02  -1.0 6.18e+00    -  9.88e-01 1.00e+00f  1\n",
      "   3  1.2419979e+06 0.00e+00 1.09e-04  -1.0 4.45e-02    -  9.92e-01 1.00e+00f  1\n",
      "   4  1.2419979e+06 0.00e+00 2.00e-07  -1.7 1.04e-03    -  1.00e+00 1.00e+00f  1\n",
      "   5  1.2419979e+06 1.14e-13 1.50e-09  -3.8 2.59e-04    -  1.00e+00 1.00e+00f  1\n",
      "   6  1.2419979e+06 1.14e-13 1.85e-11  -5.7 1.95e-06    -  1.00e+00 1.00e+00h  1\n",
      "   7  1.2419979e+06 1.14e-13 4.19e-14  -8.6 2.40e-08    -  1.00e+00 1.00e+00h  1\n",
      "\n",
      "Number of Iterations....: 7\n",
      "\n",
      "                                   (scaled)                 (unscaled)\n",
      "Objective...............:   1.0264445325928865e+05    1.2419978844373927e+06\n",
      "Dual infeasibility......:   4.1906840338764271e-14    5.0707276809904769e-13\n",
      "Constraint violation....:   1.1368683772161603e-13    1.1368683772161603e-13\n",
      "Variable bound violation:   0.0000000000000000e+00    0.0000000000000000e+00\n",
      "Complementarity.........:   2.5059040906875654e-09    3.0321439497319541e-08\n",
      "Overall NLP error.......:   2.5059040906875654e-09    3.0321439497319541e-08\n",
      "\n",
      "\n",
      "Number of objective function evaluations             = 8\n",
      "Number of objective gradient evaluations             = 8\n",
      "Number of equality constraint evaluations            = 8\n",
      "Number of inequality constraint evaluations          = 8\n",
      "Number of equality constraint Jacobian evaluations   = 1\n",
      "Number of inequality constraint Jacobian evaluations = 1\n",
      "Number of Lagrangian Hessian evaluations             = 7\n",
      "Total seconds in IPOPT                               = 0.005\n",
      "\n",
      "EXIT: Optimal Solution Found.\n"
     ]
    },
    {
     "data": {
      "text/plain": [
       "12-element Vector{Float64}:\n",
       " 77.54733994592767\n",
       " 77.90802524799959\n",
       " 78.2171840783473\n",
       " 79.60839881491053\n",
       " 82.21048563700174\n",
       " 82.44235475976232\n",
       " 82.80304006183461\n",
       " 83.49864743011625\n",
       " 87.46618575290896\n",
       " 89.21808579154445\n",
       " 89.52724462189235\n",
       " 89.55300785775428"
      ]
     },
     "execution_count": 13,
     "metadata": {},
     "output_type": "execute_result"
    }
   ],
   "source": [
    "ETH_USDT = 1210;\n",
    "# arrange for ETH\n",
    "ETH = rand(3000:3500, 12)\n",
    "ETH = sort(ETH, rev=false)\n",
    "USD = ETH .* ETH_USDT\n",
    "liquidity = [ETH USD];\n",
    "\n",
    "println(\"ETH amount \", liquidity[:, 1])\n",
    "println(\"USDT amount \", liquidity[:, 2])\n",
    "order_amount = 1000\n",
    "println(\"Order amount \", order_amount)\n",
    "\n",
    "split_trades = optimize_price_paid(liquidity, order_amount)"
   ]
  },
  {
   "cell_type": "code",
   "execution_count": 14,
   "metadata": {},
   "outputs": [
    {
     "name": "stdout",
     "output_type": "stream",
     "text": [
      "Price with split trades: 1241.9978844373927\n",
      "Price without split trades: [1811.9900497512438, 1807.8260869565217, 1804.3025540275048, 1788.9473684210527, 1762.259242355089, 1760.0, 1756.5221318879856, 1749.9375278893351, 1715.2192066805846, 1701.270807957775, 1698.888888888889, 1698.691437802908]\n",
      "Price with even split on all Amms: 1242.0919738521318\n"
     ]
    }
   ],
   "source": [
    "price = sum((split_trades[i]/order_amount)*liquidity[i, 2] / (liquidity[i, 1] - split_trades[i]) for i in 1:size(liquidity,1)) \n",
    "price_exec_baseline_pool = [liquidity[i, 2] / (liquidity[i, 1] - order_amount) for i in 1:size(liquidity,1)]\n",
    "avg_split = [order_amount / size(liquidity,1) for i in 1:size(liquidity,1)]\n",
    "price_avg_amm = sum((avg_split[i]/order_amount)*liquidity[i, 2] / (liquidity[i, 1] - avg_split[i]) for i in 1:size(liquidity,1))\n",
    "println(\"Price with split trades: \", price)\n",
    "println(\"Price without split trades: \", price_exec_baseline_pool)\n",
    "println(\"Price with even split on all Amms: \", price_avg_amm)"
   ]
  },
  {
   "cell_type": "code",
   "execution_count": 15,
   "metadata": {},
   "outputs": [
    {
     "name": "stdout",
     "output_type": "stream",
     "text": [
      "Simulated price after trade per pool: [1274.8419379727197, 1274.8419379727177, 1274.8419379727166, 1274.8419379727097, 1274.8419379726977, 1274.8419379726968, 1274.8419379726954, 1274.8419379726924, 1274.8419379726765, 1274.8419379726697, 1274.8419379726688, 1274.8419379726686]\n",
      "Simulated price after trade per pool if we had done an average split: [1279.8876225216763, 1279.550251553162, 1279.2636577380727, 1278.0026769779893, 1275.763344345932, 1275.5709342560556, 1275.2738570685408, 1274.7084572421038, 1271.6620007907463, 1270.406235562587, 1270.1899196493791, 1270.171963224384]\n",
      "Simulated price after trade per pool if we had done the trade on a single pool (displayed for all the pools): [2713.477636692161, 2701.0207939508505, 2690.502236752213, 2644.9030470914126, 2566.576559723911, 2560.0, 2549.8925618283583, 2530.811034310279, 2431.3858900545238, 2392.0019520738024, 2385.3086419753085, 2384.7542155908354]\n"
     ]
    }
   ],
   "source": [
    "del_y = [liquidity[i, 2]*split_trades[i]/(liquidity[i, 1] - split_trades[i]) for i in 1:size(liquidity,1)]\n",
    "price_post_trade_per_pool = [(liquidity[i, 2] + del_y[i])/ (liquidity[i, 1] - split_trades[i]) for i in 1:size(liquidity,1)]\n",
    "\n",
    "# Comparison with an average split\n",
    "avg_split = [order_amount / size(liquidity,1) for i in 1:size(liquidity,1)]\n",
    "del_y_avg = [liquidity[i, 2]*avg_split[i]/(liquidity[i, 1] - avg_split[i]) for i in 1:size(liquidity,1)]\n",
    "price_post_trade_per_pool_avg = [(liquidity[i, 2] + del_y_avg[i])/ (liquidity[i, 1] - avg_split[i]) for i in 1:size(liquidity,1)]\n",
    "\n",
    "# Comparison with doing the trade on a single pool (each element in the array is \"if we did the trade on this pool\")\n",
    "del_y_pool = [liquidity[i, 2]*order_amount/(liquidity[i, 1] - order_amount) for i in 1:size(liquidity,1)]\n",
    "price_post_trade_per_pool_pool = [(liquidity[i, 2] + del_y_pool[i])/ (liquidity[i, 1] - order_amount) for i in 1:size(liquidity,1)]\n",
    "\n",
    "println(\"Simulated price after trade per pool: \", price_post_trade_per_pool)\n",
    "println(\"Simulated price after trade per pool if we had done an average split: \", price_post_trade_per_pool_avg)\n",
    "println(\"Simulated price after trade per pool if we had done the trade on a single pool (displayed for all the pools): \", price_post_trade_per_pool_pool)"
   ]
  },
  {
   "cell_type": "markdown",
   "metadata": {},
   "source": [
    "Noticeably, the problem converges towards a solution where we split the order such that the price after trade is the same for all the AMMs."
   ]
  }
 ],
 "metadata": {
  "kernelspec": {
   "display_name": "Julia 1.8.0",
   "language": "julia",
   "name": "julia-1.8"
  },
  "language_info": {
   "file_extension": ".jl",
   "mimetype": "application/julia",
   "name": "julia",
   "version": "1.8.0"
  },
  "orig_nbformat": 4
 },
 "nbformat": 4,
 "nbformat_minor": 2
}
